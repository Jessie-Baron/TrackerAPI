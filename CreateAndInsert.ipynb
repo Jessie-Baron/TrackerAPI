{
 "cells": [
  {
   "cell_type": "code",
   "execution_count": 13,
   "metadata": {},
   "outputs": [],
   "source": [
    "import pymongo"
   ]
  },
  {
   "cell_type": "code",
   "execution_count": 14,
   "metadata": {},
   "outputs": [],
   "source": [
    "client = pymongo.MongoClient(\"mongodb://localhost:27017/\")\n",
    "db = client['progress_tracker']\n",
    "tv_collection = db['TV']\n",
    "users_collection = db['Users']"
   ]
  },
  {
   "cell_type": "code",
   "execution_count": 22,
   "metadata": {},
   "outputs": [],
   "source": [
    "tv_shows = [\n",
    "    {\n",
    "        \"Title\": \"Stranger Things\",\n",
    "        \"Creators\": [\"Matt Duffer\", \"Ross Duffer\"],\n",
    "        \"Number of Episodes\": 34\n",
    "    },\n",
    "    {\n",
    "        \"Title\": \"The Umbrella Academy\",\n",
    "        \"Creators\": [\"Steve Blackman\", \"Jeremy Slater\"],\n",
    "        \"Number of Episodes\": 30\n",
    "    },\n",
    "        {\n",
    "        \"Title\": \"The Crown\",\n",
    "        \"Creators\": [\"Peter Morgan\"],\n",
    "        \"Number of Episodes\": 50,\n",
    "    },\n",
    "    {\n",
    "        \"Title\": \"Money Heist\",\n",
    "        \"Creators\": [\"Álex Pina\"],\n",
    "        \"Number of Episodes\": 41,\n",
    "    },\n",
    "    {\n",
    "        \"Title\": \"Black Mirror\",\n",
    "        \"Creators\": [\"Charlie Brooker\"],\n",
    "        \"Number of Episodes\": 22,\n",
    "    },\n",
    "    {\n",
    "        \"Title\": \"The Witcher\",\n",
    "        \"Creators\": [\"Lauren Schmidt Hissrich\"],\n",
    "        \"Number of Episodes\": 24,\n",
    "    },\n",
    "    {\n",
    "        \"Title\": \"Narcos\",\n",
    "        \"Creators\": [\"Chris Brancato\", \"Carlo Bernard\", \"Doug Miro\"],\n",
    "        \"Number of Episodes\": 30,\n",
    "    },\n",
    "    {\n",
    "        \"Title\": \"Ozark\",\n",
    "        \"Creators\": [\"Bill Dubuque\", \"Mark Williams\"],\n",
    "        \"Number of Episodes\": 44,\n",
    "    },\n",
    "    {\n",
    "        \"Title\": \"The Haunting of Hill House\",\n",
    "        \"Creators\": [\"Mike Flanagan\"],\n",
    "        \"Number of Episodes\": 10,\n",
    "    },\n",
    "    {\n",
    "        \"Title\": \"Mindhunter\",\n",
    "        \"Creators\": [\"Joe Penhall\"],\n",
    "        \"Number of Episodes\": 19,\n",
    "    }\n",
    "]"
   ]
  },
  {
   "cell_type": "code",
   "execution_count": 23,
   "metadata": {},
   "outputs": [],
   "source": [
    "users = [\n",
    "    {\n",
    "        \"Fname\": \"John\",\n",
    "        \"Lname\": \"Doe\",\n",
    "        \"Username\": \"john_doe\",\n",
    "        \"Password\": \"password123\",\n",
    "        \"Profile image\": \"path/to/image\",\n",
    "        \"Email\": \"john.doe@example.com\",\n",
    "        \"Role\": \"user\",\n",
    "        \"Shows watched\": [\n",
    "            {\n",
    "                \"Name\": \"Stranger Things\",\n",
    "                \"Status\": \"watching\",\n",
    "                \"Episodes\": 5\n",
    "            }\n",
    "        ]\n",
    "    },\n",
    "    {\n",
    "        \"Fname\": \"Jane\",\n",
    "        \"Lname\": \"Smith\",\n",
    "        \"Username\": \"jane_smith\",\n",
    "        \"Password\": \"password321\",\n",
    "        \"Profile image\": \"path/to/image\",\n",
    "        \"Email\": \"jane.smith@example.com\",\n",
    "        \"Role\": \"user\",\n",
    "        \"Shows watched\": [\n",
    "            {\n",
    "                \"Name\": \"The Umbrella Academy\",\n",
    "                \"Status\": \"completed\",\n",
    "                \"Episodes\": 10\n",
    "            }\n",
    "        ]\n",
    "    }\n",
    "]"
   ]
  },
  {
   "cell_type": "code",
   "execution_count": 24,
   "metadata": {},
   "outputs": [
    {
     "name": "stdout",
     "output_type": "stream",
     "text": [
      "Data inserted successfully.\n"
     ]
    }
   ],
   "source": [
    "users_collection.insert_many(tv_shows + users)\n",
    "print(\"Data inserted successfully.\")"
   ]
  }
 ],
 "metadata": {
  "kernelspec": {
   "display_name": "Python 3",
   "language": "python",
   "name": "python3"
  },
  "language_info": {
   "codemirror_mode": {
    "name": "ipython",
    "version": 3
   },
   "file_extension": ".py",
   "mimetype": "text/x-python",
   "name": "python",
   "nbconvert_exporter": "python",
   "pygments_lexer": "ipython3",
   "version": "3.8.7"
  },
  "orig_nbformat": 4
 },
 "nbformat": 4,
 "nbformat_minor": 2
}
